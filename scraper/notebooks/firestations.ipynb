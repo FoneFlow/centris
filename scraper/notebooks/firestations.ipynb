{
 "metadata": {
  "name": "",
  "signature": "sha256:e4af5377b8bbcedde2e17158ad68edc5539c61e4c61d71a2fcaf23ce5b073eaa"
 },
 "nbformat": 3,
 "nbformat_minor": 0,
 "worksheets": [
  {
   "cells": [
    {
     "cell_type": "code",
     "collapsed": false,
     "input": [
      "s=\"\"\"\n",
      "Division\tStation Number\tAddress\tFormer City\n",
      "11\t51\t550 Blvd. St. Pierre\tSte-Anne-de-Bellevue\n",
      " \t56\t230 Blvd.Ch\u00e8vremont\tIle Bizard\n",
      " \t57\t13795 Blvd. Pierrefonds\tPierrefonds\n",
      " \t58\t13 rue Centre Commercial\tRoxboro\n",
      " \t61\t10 Sunnydale\tDollard Des Ormeaux\n",
      "12\t54\t3048 Blvd. Saint Charles\tKirkland\n",
      " \t52\t300 Surrey Drive\tBaie-d'Urfe\n",
      " \t53\t310 Beaurepaire Drive\tBeaconsfield\n",
      " \t55\t401 Blvd. St-Jean\tPointe Claire\n",
      " \n",
      "\n",
      "13\t62\t155 Avro\tDorval Station 2\n",
      " \t63\t530 Blvd. Bouchard\tDorval Station 1\n",
      " \t71\t5500 Bois Franc\tSt. Laurent Station 2\n",
      " \t72\t2727 Poirier\tSt. Laurent Station 3\n",
      " \t73\t820 Saint Germain\tSt. Laurent Station 1\n",
      " \n",
      "\n",
      "14\t64\t3175 Remembrance\tLachine\n",
      " \t77\t114 Westminster North\tMontreal West\n",
      " \t78\t6815 Cote St Luc Rd.\tCote St. Luc\n",
      " \t79\t5520 MacDonald\tHampstead\n",
      " \n",
      "\n",
      "15\t65\t1300 Dollard Ave.\tLasalle\n",
      " \t66\t4398 LaSalle Blvd.\tVerdun\n",
      " \t67\t\tNun's Island\n",
      " \n",
      "\n",
      "16\t03\t256 Young\tMontreal\n",
      " \t15\t1255 Richmond\tMontreal\n",
      " \t23\t523 Place St. Henri\tMontreal\n",
      " \t33\t6040 Monk\tMontreal\n",
      " \n",
      "\n",
      "17\t04\t5260 Van Horne\tMontreal\n",
      " \t27\t5353 Gatineau\tMontreal\n",
      " \t34\t5369 Cote St Antoine\tMontreal\n",
      " \t46\t4760 Cumberland\tMontreal\n",
      " \t76\t19 Stanton\tWestmount\n",
      " \n",
      "\n",
      "18\t02\tIle Ste- Helene (Seasonal)\tMontreal\n",
      " \t05\t75 Ontario East\tMontreal\n",
      " \t10\t1445 Saint Mathieu\tMontreal\n",
      " \t19\t2000 de Lormier\tMontreal\n",
      " \t20\t920 Saint Urbain\tMontreal\n",
      " \t25\t1212 Drummond\tMontreal\n",
      " \n",
      "\n",
      "19\t16\t1041 Rachel\tMontreal\n",
      " \t26\t2151 Mont-Royal\tMontreal\n",
      " \t30\t5 Laurier West\tMontreal\n",
      " \t75\t40 Avenue Saint-Just\tOutremont\n",
      " \n",
      "\n",
      "20\t74\t10 Roosevelt\tMount Royal\n",
      " \t09\t8100 Blvd. Saint Michel\tMontreal\n",
      " \t37\t795 Jarry East\tMontreal\n",
      " \t41\t7405 Champagneur\tMontreal\n",
      " \n",
      "\n",
      "21\t35\t10827 Lajeunesse\tMontreal\n",
      " \t42\t4180 de Salaberry\tMontreal\n",
      " \t43\t1945 Fleury East\tMontreal\n",
      " \t49\t10 Chabanel West\tMontreal\n",
      " \n",
      "\n",
      "22\t29\t5375 1st Ave.\tMontreal\n",
      " \t31\t7041 St. Dominique\tMontreal\n",
      " \t47\t2111 Saint Zotique\tMontreal\n",
      " \t50\t6490 30th Avenue\tMontreal\n",
      " \n",
      "\n",
      "23\t13\t3250 Sainte Catherine St. East\tMontreal\n",
      " \t39\t2915 Monsabre\tMontreal\n",
      " \t40\t8639 Pierre-de-Coubertin\tMontreal\n",
      " \t45\t5100 Hochelaga\tMontreal\n",
      " \t48\t3616 Hochelaga\tMontreal\n",
      " \n",
      "\n",
      "24\t21\t6025 Lavoisier\tSt. Leonard Station 1\n",
      " \t22\t5455 Antoine Dagenais\tSt. Leonard Station 2\n",
      " \t17\t4340 Charleroi\tMontreal North Station 1\n",
      " \t18\t12012 Rolland\tMontreal North Station 2\n",
      " \n",
      "\n",
      "25\t28\t7650 Blvd. Chateauneuf\tAnjou\n",
      " \t08\t11371 Notre Dame\tMontreal East\n",
      " \t14\t11575 26th Ave.\tMontreal\n",
      " \t38\t14201 Sherbrooke East\tMontreal\n",
      " \t44\t12145 Blvd. Riviere des Prairies\tMontreal\n",
      "\"\"\""
     ],
     "language": "python",
     "metadata": {},
     "outputs": [],
     "prompt_number": 1
    },
    {
     "cell_type": "code",
     "collapsed": false,
     "input": [
      "import pandas as pd\n",
      "from StringIO import StringIO"
     ],
     "language": "python",
     "metadata": {},
     "outputs": [],
     "prompt_number": 4
    },
    {
     "cell_type": "code",
     "collapsed": false,
     "input": [
      "TESTDATA = StringIO(s)"
     ],
     "language": "python",
     "metadata": {},
     "outputs": [],
     "prompt_number": 5
    },
    {
     "cell_type": "code",
     "collapsed": false,
     "input": [
      "df = pd.DataFrame.from_csv(TESTDATA, sep=\"\\t\", parse_dates=False)"
     ],
     "language": "python",
     "metadata": {},
     "outputs": [],
     "prompt_number": 7
    },
    {
     "cell_type": "code",
     "collapsed": false,
     "input": [
      "df.columns.values"
     ],
     "language": "python",
     "metadata": {},
     "outputs": [
      {
       "metadata": {},
       "output_type": "pyout",
       "prompt_number": 8,
       "text": [
        "array(['Station Number', 'Address', 'Former City'], dtype=object)"
       ]
      }
     ],
     "prompt_number": 8
    },
    {
     "cell_type": "code",
     "collapsed": false,
     "input": [
      "addresses = [x[0] for x in df[['Address']].values]"
     ],
     "language": "python",
     "metadata": {},
     "outputs": [],
     "prompt_number": 13
    },
    {
     "cell_type": "code",
     "collapsed": false,
     "input": [
      "import geocoder"
     ],
     "language": "python",
     "metadata": {},
     "outputs": [],
     "prompt_number": 14
    },
    {
     "cell_type": "code",
     "collapsed": false,
     "input": [
      "coords = [geocoder.google(addr + ' Montreal') for addr in filter(lambda x: type(x)==str, addresses)]"
     ],
     "language": "python",
     "metadata": {},
     "outputs": [],
     "prompt_number": 38
    },
    {
     "cell_type": "code",
     "collapsed": false,
     "input": [
      "f = open('firestations.csv', 'wb')\n",
      "f.write('address,lat,lng\\n')\n",
      "for i,c in enumerate(coords):\n",
      "    if c.status.find('ERROR') > -1:\n",
      "        f.write(\"%s,,\\n\" % (addresses[i]))\n",
      "    else:\n",
      "        f.write(\"%s,%f,%f\\n\" % (addresses[i],c.lat,c.lng))\n",
      "f.close()"
     ],
     "language": "python",
     "metadata": {},
     "outputs": [],
     "prompt_number": 42
    },
    {
     "cell_type": "code",
     "collapsed": false,
     "input": [],
     "language": "python",
     "metadata": {},
     "outputs": []
    }
   ],
   "metadata": {}
  }
 ]
}